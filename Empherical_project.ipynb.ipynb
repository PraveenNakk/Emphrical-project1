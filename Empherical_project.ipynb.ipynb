{
  "cells": [
    {
      "cell_type": "code",
      "execution_count": null,
      "metadata": {
        "id": "Z_hQVR4SUhbo"
      },
      "outputs": [],
      "source": [
        "# importing pandas\n",
        "import pandas as pd\n",
        "\n",
        "# importing seaborn\n",
        "import seaborn as sns\n",
        "\n",
        "# importing matplotlib\n",
        "import matplotlib.pyplot as plt\n",
        "\n",
        "# importing required pakages from sklearn\n",
        "from sklearn.preprocessing import StandardScaler, LabelEncoder\n",
        "from sklearn.model_selection import train_test_split, GridSearchCV, cross_val_score\n",
        "from sklearn.metrics import accuracy_score, precision_score, recall_score, f1_score, roc_auc_score, classification_report, confusion_matrix\n",
        "from sklearn.linear_model import LogisticRegression\n",
        "from sklearn.ensemble import RandomForestClassifier\n",
        "from sklearn.svm import SVC"
      ]
    },
    {
      "cell_type": "code",
      "execution_count": null,
      "metadata": {
        "id": "3JlcIQpTkQPB"
      },
      "outputs": [],
      "source": [
        "import warnings\n",
        "warnings.filterwarnings(\"ignore\")"
      ]
    },
    {
      "cell_type": "markdown",
      "metadata": {
        "id": "mOLl_3i9XhV6"
      },
      "source": [
        "# Loading data"
      ]
    },
    {
      "cell_type": "code",
      "execution_count": null,
      "metadata": {
        "id": "pczIyaj5XGPx"
      },
      "outputs": [],
      "source": [
        "# Importing data using pandas into df\n",
        "df = pd.read_csv(\"/content/heart_attacks.csv\")"
      ]
    },
    {
      "cell_type": "code",
      "execution_count": null,
      "metadata": {
        "id": "NElKiOV1XWlB"
      },
      "outputs": [],
      "source": [
        "# checking first 5 rows of df\n",
        "df.head()"
      ]
    },
    {
      "cell_type": "code",
      "execution_count": null,
      "metadata": {
        "id": "_VT59EIMXXg5"
      },
      "outputs": [],
      "source": [
        "# Shape of DF (rows,columns)\n",
        "df.shape"
      ]
    },
    {
      "cell_type": "code",
      "execution_count": null,
      "metadata": {
        "id": "8g2CEHjtXZPm"
      },
      "outputs": [],
      "source": [
        "# df columns datatypes\n",
        "df.dtypes"
      ]
    },
    {
      "cell_type": "code",
      "execution_count": null,
      "metadata": {
        "id": "njkzBZ8MXcX9"
      },
      "outputs": [],
      "source": [
        "# df columns\n",
        "df.columns"
      ]
    },
    {
      "cell_type": "markdown",
      "metadata": {
        "id": "4px1cOLIXpht"
      },
      "source": [
        "# changing string types to numerical"
      ]
    },
    {
      "cell_type": "code",
      "execution_count": null,
      "metadata": {
        "id": "0sJ80cPMktnN"
      },
      "outputs": [],
      "source": [
        "# Convert 'Sex' column from categorical to numerical values\n",
        "df['Sex'] = df['Sex'].replace({'female': 0, 'male': 1})\n"
      ]
    },
    {
      "cell_type": "code",
      "execution_count": null,
      "metadata": {
        "id": "zt9KiQbokvF8"
      },
      "outputs": [],
      "source": [
        "# Convert 'Chest_Pain_Type' column from categorical to numerical values\n",
        "df['Chest_Pain_Type'] = df['Chest_Pain_Type'].replace({\n",
        "    'typical angina': 1,\n",
        "    'atypical angina': 2,\n",
        "    'non-anginal pain': 3,\n",
        "    'asymptomatic': 4\n",
        "})"
      ]
    },
    {
      "cell_type": "code",
      "execution_count": null,
      "metadata": {
        "id": "x1rsUrwukxRC"
      },
      "outputs": [],
      "source": [
        "# Convert 'Resting_ECG_Results' column from categorical to numerical values\n",
        "df['Resting_ECG_Results'] = df['Resting_ECG_Results'].replace({\n",
        "    'normal': 0,\n",
        "    'ST-T wave abnormality': 1,\n",
        "    'left ventricular hypertrophy': 2\n",
        "})"
      ]
    },
    {
      "cell_type": "code",
      "execution_count": null,
      "metadata": {
        "id": "QpJ0CMDvkzqp"
      },
      "outputs": [],
      "source": [
        "# Convert 'Exercise_Induced_Angina' column from categorical to numerical values\n",
        "df['Exercise_Induced_Angina'] = df['Exercise_Induced_Angina'].replace({'no': 0, 'yes': 1})\n"
      ]
    },
    {
      "cell_type": "code",
      "execution_count": null,
      "metadata": {
        "id": "M5BsTMRrk1b_"
      },
      "outputs": [],
      "source": [
        "# Convert 'Slope' column from categorical to numerical values\n",
        "df['Slope'] = df['Slope'].replace({'upsloping': 1, 'flat': 2, 'downsloping': 3})\n"
      ]
    },
    {
      "cell_type": "code",
      "execution_count": null,
      "metadata": {
        "id": "vBmdeMwwk3Cc"
      },
      "outputs": [],
      "source": [
        "# Convert 'Thalassemia' column from categorical to numerical values\n",
        "df['Thalassemia'] = df['Thalassemia'].replace({\n",
        "    'normal': 1,\n",
        "    'fixed defect': 2,\n",
        "    'reversible defect': 3\n",
        "})"
      ]
    },
    {
      "cell_type": "code",
      "execution_count": null,
      "metadata": {
        "id": "Eeho00tzXw14"
      },
      "outputs": [],
      "source": [
        "# Convert 'Heart_Attack_Prediction' column from categorical to numerical values\n",
        "df['Heart_Attack_Prediction'] = df['Heart_Attack_Prediction'].replace({'less chance of heart attack': 0, 'more chance of heart attack': 1})"
      ]
    },
    {
      "cell_type": "code",
      "execution_count": null,
      "metadata": {
        "id": "bEAFUq94YFXn"
      },
      "outputs": [],
      "source": [
        "df.head()"
      ]
    },
    {
      "cell_type": "code",
      "execution_count": null,
      "metadata": {
        "id": "0nKF_xcsY5Ox"
      },
      "outputs": [],
      "source": [
        "# Replace null values with the median value of the respective column\n",
        "df = df.fillna(df.median())\n"
      ]
    },
    {
      "cell_type": "markdown",
      "metadata": {
        "id": "roGxZVv3XkA9"
      },
      "source": [
        "# checking null values"
      ]
    },
    {
      "cell_type": "code",
      "execution_count": null,
      "metadata": {
        "id": "3rVYqKxFXfQD"
      },
      "outputs": [],
      "source": [
        "df.isnull().sum()"
      ]
    },
    {
      "cell_type": "code",
      "execution_count": null,
      "metadata": {
        "id": "AoHNkQDmYIZf"
      },
      "outputs": [],
      "source": [
        "# describing data\n",
        "df.describe()"
      ]
    },
    {
      "cell_type": "markdown",
      "metadata": {
        "id": "NOj4IEpbZO95"
      },
      "source": [
        "# data visualization"
      ]
    },
    {
      "cell_type": "markdown",
      "metadata": {
        "id": "htBjTAWdaCA7"
      },
      "source": [
        "### using all columns"
      ]
    },
    {
      "cell_type": "code",
      "execution_count": null,
      "metadata": {
        "id": "mqgBt-GRa3a2"
      },
      "outputs": [],
      "source": [
        "# Create a histogram of the 'Max_Heart_Rate_Achieved' column\n",
        "sns.histplot(data=df, x='Max_Heart_Rate_Achieved')\n",
        "plt.title('Histogram of Max Heart Rate Achieved')\n",
        "plt.xlabel('Max Heart Rate Achieved')\n",
        "plt.ylabel('Count')\n",
        "plt.show()"
      ]
    },
    {
      "cell_type": "code",
      "execution_count": null,
      "metadata": {
        "id": "xEA3LU-QbUiq"
      },
      "outputs": [],
      "source": [
        "# Create a scatter plot of the 'Cholesterol' vs 'Age' columns\n",
        "sns.scatterplot(data=df, x='Cholesterol', y='Age', hue='Heart_Attack_Prediction', palette=['blue', 'red'])\n",
        "plt.title('Scatter Plot of Cholesterol vs Age')\n",
        "plt.xlabel('Cholesterol')\n",
        "plt.ylabel('Age')\n",
        "plt.show()"
      ]
    },
    {
      "cell_type": "code",
      "execution_count": null,
      "metadata": {
        "id": "4vPYtQ_NZ2bF"
      },
      "outputs": [],
      "source": [
        "column_names = list(df.columns)\n",
        "\n",
        "df_subset = df[column_names]\n",
        "\n",
        "# Calculate the correlation matrix\n",
        "corr_matrix = df_subset.corr()\n",
        "\n",
        "# Create the heatmap\n",
        "sns.heatmap(corr_matrix, annot=True, cmap='coolwarm')\n",
        "plt.title('Correlation Matrix')\n",
        "plt.show()"
      ]
    },
    {
      "cell_type": "markdown",
      "metadata": {
        "id": "R7zdBPABtNyU"
      },
      "source": [
        "#### To check relation between each column"
      ]
    },
    {
      "cell_type": "code",
      "execution_count": null,
      "metadata": {
        "id": "XWEjAnFUZX-d"
      },
      "outputs": [],
      "source": [
        "# Create visualizations for all columns using Seaborn\n",
        "sns.pairplot(df, hue='Heart_Attack_Prediction', palette='plasma')\n",
        "plt.show()"
      ]
    },
    {
      "cell_type": "markdown",
      "metadata": {
        "id": "S0I0lQs-eacu"
      },
      "source": [
        "# Categorical columns and numerical columns from data"
      ]
    },
    {
      "cell_type": "code",
      "execution_count": null,
      "metadata": {
        "id": "76YtXyfEe8hg"
      },
      "outputs": [],
      "source": [
        "# Select the categorical columns\n",
        "cat_cols = ['Sex', 'Chest_Pain_Type', 'Fasting_Blood_Sugar', 'Resting_ECG_Results', 'Exercise_Induced_Angina', 'Slope', 'Thalassemia']\n",
        "\n",
        "# Perform one-hot encoding with drop_first=True\n",
        "df_encoded = pd.get_dummies(df, columns=cat_cols, drop_first=True)\n"
      ]
    },
    {
      "cell_type": "code",
      "execution_count": null,
      "metadata": {
        "id": "0kqAxfIgjK2D"
      },
      "outputs": [],
      "source": [
        "# Select the numerical columns\n",
        "num_cols = ['Age', 'Resting_Blood_Pressure', 'Cholesterol', 'Max_Heart_Rate_Achieved', 'Old_Peak', 'Num_Major_Vessels']\n",
        "\n",
        "# Scale the numerical columns\n",
        "scaler = StandardScaler()\n",
        "df_encoded[num_cols] = scaler.fit_transform(df_encoded[num_cols])\n"
      ]
    },
    {
      "cell_type": "markdown",
      "metadata": {
        "id": "QRMTdir2d5V0"
      },
      "source": [
        "# Splitting data"
      ]
    },
    {
      "cell_type": "code",
      "execution_count": null,
      "metadata": {
        "id": "l5TdD7Lrdh80"
      },
      "outputs": [],
      "source": [
        "# Select the feature columns and target column\n",
        "X = df_encoded.drop('Heart_Attack_Prediction', axis=1)\n",
        "y = df_encoded['Heart_Attack_Prediction']"
      ]
    },
    {
      "cell_type": "code",
      "execution_count": null,
      "metadata": {
        "id": "IvxikbJbeAWT"
      },
      "outputs": [],
      "source": [
        "# Split the data into training and testing sets\n",
        "X_train, X_test, y_train, y_test = train_test_split(X, y, test_size=0.2, random_state=42)\n"
      ]
    },
    {
      "cell_type": "markdown",
      "metadata": {
        "id": "Oqgbu1G7CfQi"
      },
      "source": [
        "# Logistic Regression"
      ]
    },
    {
      "cell_type": "code",
      "execution_count": null,
      "metadata": {
        "id": "-FFTYHyBgUrp"
      },
      "outputs": [],
      "source": [
        "# Train a logistic regression model\n",
        "log_reg = LogisticRegression()\n",
        "log_reg.fit(X_train, y_train)\n",
        "\n",
        "# Predict on the test set\n",
        "y_pred = log_reg.predict(X_test)\n"
      ]
    },
    {
      "cell_type": "code",
      "execution_count": null,
      "metadata": {
        "id": "Z9BwKSlwmQT_"
      },
      "outputs": [],
      "source": [
        "# Calculate the accuracy of the model\n",
        "accuracy_logistic_regression = accuracy_score(y_test, y_pred)\n",
        "print(classification_report(y_test, y_pred))\n",
        "print(f\"Accuracy: {accuracy_logistic_regression}\")"
      ]
    },
    {
      "cell_type": "code",
      "execution_count": null,
      "metadata": {
        "id": "qd5BIZIoGSuK"
      },
      "outputs": [],
      "source": [
        "# Plot the confusion matrix using a heatmap\n",
        "sns.heatmap(confusion_matrix(y_test, y_pred), annot=True, cmap=\"Blues\")\n",
        "plt.title(\"Confusion Matrix\")\n",
        "plt.xlabel(\"Predicted Labels\")\n",
        "plt.ylabel(\"True Labels\")\n",
        "plt.show()"
      ]
    },
    {
      "cell_type": "markdown",
      "metadata": {
        "id": "NdCL3MrzCmgZ"
      },
      "source": [
        "# Support vector machine"
      ]
    },
    {
      "cell_type": "code",
      "execution_count": null,
      "metadata": {
        "id": "ee7S2-2smbfd"
      },
      "outputs": [],
      "source": [
        "# Split the data into features and target\n",
        "X = df.iloc[:, :-1]\n",
        "y = df.iloc[:, -1]\n",
        "\n",
        "# Split the data into training and testing sets\n",
        "X_train, X_test, y_train, y_test = train_test_split(X, y, test_size=0.2, random_state=42)\n"
      ]
    },
    {
      "cell_type": "code",
      "execution_count": null,
      "metadata": {
        "id": "iAYmCEmkB-az"
      },
      "outputs": [],
      "source": [
        "\n",
        "# Fit the SVM model on the training data\n",
        "svm = SVC(kernel='linear', random_state=42)\n",
        "svm.fit(X_train, y_train)\n",
        "\n",
        "# Predict on the testing data\n",
        "y_pred = svm.predict(X_test)"
      ]
    },
    {
      "cell_type": "code",
      "execution_count": null,
      "metadata": {
        "id": "OCNLfoN5mehn"
      },
      "outputs": [],
      "source": [
        "# Print the classification report \n",
        "print(classification_report(y_test, y_pred))\n"
      ]
    },
    {
      "cell_type": "code",
      "execution_count": null,
      "metadata": {
        "id": "Ul1Vq7BJmgLV"
      },
      "outputs": [],
      "source": [
        "# Calculate the accuracy of the model\n",
        "accuracy_SVM = accuracy_score(y_test, y_pred)\n",
        "print(f\"Accuracy: {accuracy_SVM }\")"
      ]
    },
    {
      "cell_type": "code",
      "execution_count": null,
      "metadata": {
        "id": "Vg1N5CPbGFDx"
      },
      "outputs": [],
      "source": [
        "# Plot the confusion matrix using a heatmap\n",
        "sns.heatmap(confusion_matrix(y_test, y_pred), annot=True, cmap=\"Blues\")\n",
        "plt.title(\"Confusion Matrix\")\n",
        "plt.xlabel(\"Predicted Labels\")\n",
        "plt.ylabel(\"True Labels\")\n",
        "plt.show()"
      ]
    },
    {
      "cell_type": "markdown",
      "metadata": {
        "id": "JrjOTZK6CqL7"
      },
      "source": [
        "# Random Forest "
      ]
    },
    {
      "cell_type": "code",
      "execution_count": null,
      "metadata": {
        "id": "EA40xcXNltWU"
      },
      "outputs": [],
      "source": [
        "# Select the feature columns and target column\n",
        "X = df_encoded.drop('Heart_Attack_Prediction', axis=1)\n",
        "y = df_encoded['Heart_Attack_Prediction']\n",
        "\n",
        "# Split the data into training and testing sets\n",
        "X_train, X_test, y_train, y_test = train_test_split(X, y, test_size=0.2, random_state=42)\n"
      ]
    },
    {
      "cell_type": "code",
      "execution_count": null,
      "metadata": {
        "id": "7apmESHlmtUc"
      },
      "outputs": [],
      "source": [
        "# Random Forest classifier\n",
        "rfc = RandomForestClassifier(n_estimators=100\n",
        "                             ,random_state=42)\n",
        "rfc.fit(X_train, y_train)\n"
      ]
    },
    {
      "cell_type": "code",
      "execution_count": null,
      "metadata": {
        "id": "WhtBnRyllj0Q"
      },
      "outputs": [],
      "source": [
        "# Make predictions on the test set and evaluate the model's accuracy\n",
        "y_pred = rfc.predict(X_test)\n",
        "accuracy_Randomforest = accuracy_score(y_test, y_pred)\n",
        "print(classification_report(y_test, y_pred))\n",
        "print(f\"Accuracy: {accuracy_Randomforest}\")"
      ]
    },
    {
      "cell_type": "code",
      "execution_count": null,
      "metadata": {
        "id": "H5PAX4FOCuTF"
      },
      "outputs": [],
      "source": [
        "# Plot the confusion matrix using a heatmap\n",
        "sns.heatmap(confusion_matrix(y_test, y_pred), annot=True, cmap=\"Blues\")\n",
        "plt.title(\"Confusion Matrix\")\n",
        "plt.xlabel(\"Predicted Labels\")\n",
        "plt.ylabel(\"True Labels\")\n",
        "plt.show()"
      ]
    },
    {
      "cell_type": "markdown",
      "metadata": {
        "id": "4KtPtnh4FarP"
      },
      "source": [
        "# cross validation"
      ]
    },
    {
      "cell_type": "code",
      "execution_count": null,
      "metadata": {
        "id": "5CxIjBMEsiBb"
      },
      "outputs": [],
      "source": [
        "# Perform cross-validation for logistic regression\n",
        "log_reg_scores = cross_val_score(log_reg, X, y, cv=10)\n",
        "print(\"Logistic Regression Mean Accuracy in Cross validation :\", round(log_reg_scores.mean(),3))\n",
        "\n",
        "\n",
        "# Plot the cross-validation scores\n",
        "plt.plot(range(1, 11), log_reg_scores)\n",
        "plt.xlabel('Number of Folds')\n",
        "plt.ylabel('Accuracy')\n",
        "plt.title('Cross-Validation Scores for logistic regression')\n",
        "plt.show()"
      ]
    },
    {
      "cell_type": "code",
      "execution_count": null,
      "metadata": {
        "id": "zOLpzkM3rWox"
      },
      "outputs": [],
      "source": [
        "# Perform cross-validation for SVM\n",
        "svm_scores = cross_val_score(svm, X, y, cv=10)\n",
        "print(\"SVM Mean Accuracy in Cross validation :\", round(svm_scores.mean(),3))\n",
        "\n",
        "# Plot the cross-validation scores\n",
        "plt.plot(range(1, 11), svm_scores)\n",
        "plt.xlabel('Number of Folds')\n",
        "plt.ylabel('Accuracy')\n",
        "plt.title('Cross-Validation Scores for SVM')\n",
        "plt.show()"
      ]
    },
    {
      "cell_type": "code",
      "execution_count": null,
      "metadata": {
        "id": "tD-2Gzysluqd"
      },
      "outputs": [],
      "source": [
        "# Perform 10-fold cross validation\n",
        "rfc_scores = cross_val_score(rfc, X, y, cv=10)\n",
        "print(\"Random Forest Mean Accuracy in Cross validation : \" ,round(rfc_scores.mean(),3))\n",
        "\n",
        "\n",
        "# Plot the cross-validation scores\n",
        "plt.plot(range(1, 11), rfc_scores)\n",
        "plt.xlabel('Number of Folds')\n",
        "plt.ylabel('Accuracy')\n",
        "plt.title('Cross-Validation Scores for Randon forest')\n",
        "plt.show()"
      ]
    },
    {
      "cell_type": "markdown",
      "metadata": {
        "id": "I6vx1xDECzE6"
      },
      "source": [
        "# Accuracy Scores"
      ]
    },
    {
      "cell_type": "code",
      "execution_count": null,
      "metadata": {
        "id": "CZDFw5q2pb_H"
      },
      "outputs": [],
      "source": [
        "\n",
        "# Create a list of model names and their accuracy scores\n",
        "models = ['Random Forest', 'SVM', 'Logistic Regression']\n",
        "accuracy_scores = [accuracy_Randomforest, accuracy_SVM, accuracy_logistic_regression]\n",
        "\n",
        "# Create a bar plot to compare the accuracy scores\n",
        "plt.bar(models, accuracy_scores)\n",
        "plt.title('Accuracy Scores of ML Models')\n",
        "plt.xlabel('Models')\n",
        "plt.ylabel('Accuracy')\n",
        "for i, v in enumerate(accuracy_scores):\n",
        "    plt.text(i, v/2, str(round(v, 3)), ha='center', va='bottom')\n",
        "\n",
        "plt.show()"
      ]
    },
    {
      "cell_type": "markdown",
      "metadata": {
        "id": "5R4AzI6xunhT"
      },
      "source": [
        "### Based on the accuracy scores, the best model for the Heart Attack Prediction is Logistic Regression, which has an accuracy of 0.902."
      ]
    },
    {
      "cell_type": "markdown",
      "metadata": {
        "id": "coVNhi08C3_k"
      },
      "source": [
        "# cross validation score"
      ]
    },
    {
      "cell_type": "code",
      "execution_count": null,
      "metadata": {
        "id": "tU83XBMrtKia"
      },
      "outputs": [],
      "source": [
        "# Create a list of model names and their scores\n",
        "models = ['Random Forest', 'SVM', 'Logistic Regression']\n",
        "cr_v_scores = [rfc_scores, svm_scores, log_reg_scores]\n",
        "\n",
        "# Create a box plot to compare the scores\n",
        "plt.boxplot(cr_v_scores)\n",
        "plt.xticks(range(1, len(models) + 1), models)\n",
        "plt.title('Cross validation Scores of ML Models')\n",
        "plt.xlabel('Models')\n",
        "plt.ylabel('Cross Validation Scores')\n",
        "plt.show()\n"
      ]
    },
    {
      "cell_type": "code",
      "execution_count": null,
      "metadata": {
        "id": "fODW52yhtKez"
      },
      "outputs": [],
      "source": []
    },
    {
      "cell_type": "code",
      "execution_count": null,
      "metadata": {
        "id": "qYyvt2f1tZGz"
      },
      "outputs": [],
      "source": []
    },
    {
      "cell_type": "code",
      "execution_count": null,
      "metadata": {
        "id": "YpNLlWhgDiZU"
      },
      "outputs": [],
      "source": []
    },
    {
      "cell_type": "code",
      "execution_count": null,
      "metadata": {
        "id": "RatPKiNINYul"
      },
      "outputs": [],
      "source": []
    }
  ],
  "metadata": {
    "colab": {
      "private_outputs": true,
      "provenance": []
    },
    "kernelspec": {
      "display_name": "Python 3",
      "name": "python3"
    },
    "language_info": {
      "name": "python"
    }
  },
  "nbformat": 4,
  "nbformat_minor": 0
}
